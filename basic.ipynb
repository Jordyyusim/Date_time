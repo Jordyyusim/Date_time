{
 "cells": [
  {
   "cell_type": "markdown",
   "metadata": {},
   "source": [
    "# __DATE TIME__\n",
    "<HR>\n",
    "<HR>"
   ]
  },
  {
   "cell_type": "code",
   "execution_count": null,
   "metadata": {},
   "outputs": [],
   "source": []
  },
  {
   "cell_type": "code",
   "execution_count": null,
   "metadata": {},
   "outputs": [],
   "source": [
    "# import datetime"
   ]
  },
  {
   "cell_type": "code",
   "execution_count": null,
   "metadata": {},
   "outputs": [],
   "source": [
    "# x = datetime.datetime.now()\n",
    "# print(x)"
   ]
  },
  {
   "cell_type": "code",
   "execution_count": null,
   "metadata": {},
   "outputs": [],
   "source": [
    "# print(x.strftime('%A')) # => hari\n",
    "# print(x.strftime('%d')) # => tanggal\n",
    "# print(x.strftime('%B')) # => bulan\n",
    "# print(x.strftime('%m')) # => bulan dalam index\n",
    "# print(x.strftime('%Y')) # => tahun\n",
    "# print(x.strftime('%y')) # => tahun disingkat\n",
    "# print(x.strftime('%H')) # => jam dalam sistem 24h\n",
    "# print(x.strftime('%I')) # => jam dalam sistem 12h\n",
    "# print(x.strftime('%p')) # => am/pm\n",
    "# print(x.strftime('%M')) # => menit\n",
    "# print(x.strftime('%A')) # => detik"
   ]
  },
  {
   "cell_type": "code",
   "execution_count": null,
   "metadata": {},
   "outputs": [],
   "source": [
    "# namaHari = {\n",
    "#     'Monday': 'Senin',\n",
    "#     'Tuesday': 'Selasa',\n",
    "#     'Wednesday': 'Rabu',\n",
    "#     'Thursday': 'Kamis',\n",
    "#     'Friday': 'Jumat',\n",
    "#     'Saturday': 'Sabtu',\n",
    "#     'Sunday': 'Minggu'\n",
    "# }\n",
    "# x = datetime.datetime.now()\n",
    "# y = x.strftime('%A') \n",
    "# z = x.strftime('%B')\n",
    "# cari = namaHari[y]\n",
    "# print(cari)"
   ]
  },
  {
   "cell_type": "code",
   "execution_count": null,
   "metadata": {},
   "outputs": [],
   "source": [
    "# x = datetime.datetime.now()\n",
    "\n",
    "# namaHari = {\n",
    "#     'Monday': 'Senin',\n",
    "#     'Tuesday': 'Selasa',\n",
    "#     'Wednesday': 'Rabu',\n",
    "#     'Thursday': 'Kamis',\n",
    "#     'Friday': 'Jumat',\n",
    "#     'Saturday': 'Sabtu',\n",
    "#     'Sunday': 'Minggu'\n",
    "# }\n",
    "\n",
    "# namaBulan = {\n",
    "#     'January': 'Jan',\n",
    "#     'February': 'Feb',\n",
    "#     'March': 'Mar',\n",
    "#     'April': 'Apr',\n",
    "#     'May': 'Mei',\n",
    "#     'June': 'Juni',\n",
    "#     'July': 'Juli',\n",
    "#     'August': 'Agu',\n",
    "#     'September': 'Sep',\n",
    "#     'October': 'Okt',\n",
    "#     'November': 'Nop',\n",
    "#     'Desember': 'Des'\n",
    "# }\n",
    "\n",
    "# class waktu():\n",
    "#     def __init__(self):\n",
    "#         self.hari = namaHari[x.strftime('%A')]\n",
    "#         self.bulan = namaBulan[x.strftime('%B')]\n",
    "# waktunya = waktu()"
   ]
  }
 ],
 "metadata": {
  "kernelspec": {
   "display_name": "Python 3",
   "language": "python",
   "name": "python3"
  },
  "language_info": {
   "codemirror_mode": {
    "name": "ipython",
    "version": 3
   },
   "file_extension": ".py",
   "mimetype": "text/x-python",
   "name": "python",
   "nbconvert_exporter": "python",
   "pygments_lexer": "ipython3",
   "version": "3.8.1"
  }
 },
 "nbformat": 4,
 "nbformat_minor": 4
}
